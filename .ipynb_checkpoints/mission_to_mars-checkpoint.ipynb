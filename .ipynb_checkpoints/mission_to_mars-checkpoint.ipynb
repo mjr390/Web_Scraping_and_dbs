{
 "cells": [
  {
   "cell_type": "code",
   "execution_count": 1,
   "metadata": {},
   "outputs": [],
   "source": [
    "# Dependencies\n",
    "from bs4 import BeautifulSoup\n",
    "import requests\n",
    "from splinter import Browser"
   ]
  },
  {
   "cell_type": "markdown",
   "metadata": {},
   "source": [
    "# NASA Mars News"
   ]
  },
  {
   "cell_type": "code",
   "execution_count": 2,
   "metadata": {},
   "outputs": [],
   "source": [
    "# create a variable with the link to the page with the wanted info\n",
    "url = \"https://mars.nasa.gov/news/?page=0&per_page=40&order=publish_date+desc%2Ccreated_at+desc&search=&category=19%2C165%2C184%2C204&blank_scope=Latest\"\n",
    "# use requests.get in the url\n",
    "response = requests.get(url)\n",
    "\n",
    "# create a BeautifulSoup object\n",
    "soup = BeautifulSoup(response.text, 'lxml')"
   ]
  },
  {
   "cell_type": "code",
   "execution_count": 3,
   "metadata": {},
   "outputs": [
    {
     "name": "stdout",
     "output_type": "stream",
     "text": [
      "\n",
      "\n",
      "Opportunity Hunkers Down During Dust Storm\n",
      "\n",
      "\n",
      "\n",
      "It's the beginning of the end for the planet-encircling dust storm on Mars. But it could still be weeks, or even months, before skies are clear enough for NASA's Opportunity rover to recharge its batteries and phone home. \n",
      "\n"
     ]
    }
   ],
   "source": [
    "# get the title of the article\n",
    "news_title = soup.find('div', class_='content_title').text\n",
    "# get the discription text of the article\n",
    "news_p = soup.find('div', class_='image_and_description_container').find('div', class_='rollover_description_inner').text\n",
    "\n",
    "print(news_title)\n",
    "print(news_p)"
   ]
  },
  {
   "cell_type": "markdown",
   "metadata": {},
   "source": [
    "# JPL Mars Space Images - Featured Image "
   ]
  },
  {
   "cell_type": "code",
   "execution_count": 4,
   "metadata": {},
   "outputs": [],
   "source": [
    "# connect to the chromedriver\n",
    "executable_path = {'executable_path': 'chromedriver.exe'}\n",
    "# use Browser to work on the chrome browser\n",
    "browser = Browser('chrome', **executable_path, headless=False)"
   ]
  },
  {
   "cell_type": "code",
   "execution_count": 5,
   "metadata": {},
   "outputs": [],
   "source": [
    "# create a variable for the url to visit\n",
    "url = 'https://www.jpl.nasa.gov/spaceimages/?search=&category=Mars'\n",
    "# have browser visit that url\n",
    "browser.visit(url)"
   ]
  },
  {
   "cell_type": "code",
   "execution_count": 6,
   "metadata": {},
   "outputs": [],
   "source": [
    "# have browser click the 'FULL IMAGE' button on the page to get to the full size image\n",
    "browser.click_link_by_partial_text('FULL IMAGE')\n",
    "#import time and use sleep to pause the code for 10 seconds to make sure that the full page loads\n",
    "import time\n",
    "time.sleep(10)"
   ]
  },
  {
   "cell_type": "code",
   "execution_count": 7,
   "metadata": {},
   "outputs": [],
   "source": [
    "# create a variable of the html of the page\n",
    "html = browser.html\n",
    "# convert the variable to a Soup object\n",
    "soup2 = BeautifulSoup(html, 'html.parser')"
   ]
  },
  {
   "cell_type": "code",
   "execution_count": 8,
   "metadata": {},
   "outputs": [
    {
     "name": "stdout",
     "output_type": "stream",
     "text": [
      "/spaceimages/images/mediumsize/PIA18884_ip.jpg\n"
     ]
    }
   ],
   "source": [
    "# get the part of the link that is needed to reach the image\n",
    "img_line = soup2.find('img', class_='fancybox-image')['src']\n",
    "print(img_line)"
   ]
  },
  {
   "cell_type": "code",
   "execution_count": 9,
   "metadata": {},
   "outputs": [
    {
     "data": {
      "text/plain": [
       "'https://www.jpl.nasa.gov/spaceimages/images/mediumsize/PIA18884_ip.jpg'"
      ]
     },
     "execution_count": 9,
     "metadata": {},
     "output_type": "execute_result"
    }
   ],
   "source": [
    "# create a variable containing the first part of the image site link\n",
    "start_img_url = 'https://www.jpl.nasa.gov'\n",
    "# conbine the first and second part of the link to make the full working link\n",
    "featured_image_url = start_img_url + img_line\n",
    "featured_image_url"
   ]
  },
  {
   "cell_type": "markdown",
   "metadata": {},
   "source": [
    "# Mars Weather"
   ]
  },
  {
   "cell_type": "code",
   "execution_count": 10,
   "metadata": {},
   "outputs": [],
   "source": [
    "# create a variable for the link to the twitter page for Mar's weather\n",
    "mars_twitter = 'https://twitter.com/marswxreport?lang=en&lang=en'\n",
    "# use requests.get to get the html of the page and convert it to a BeautifulSoup object\n",
    "wResponse = requests.get(mars_twitter)\n",
    "wSoup = BeautifulSoup(wResponse.text, 'lxml')"
   ]
  },
  {
   "cell_type": "code",
   "execution_count": 11,
   "metadata": {},
   "outputs": [
    {
     "data": {
      "text/plain": [
       "'Sol 2108 (2018-07-12), Sunny, high -24C/-11F, low -65C/-84F, pressure at 8.06 hPa, daylight 05:19-17:27'"
      ]
     },
     "execution_count": 11,
     "metadata": {},
     "output_type": "execute_result"
    }
   ],
   "source": [
    "#create an object containing all of the tweets\n",
    "tweets = wSoup.find_all('div', class_='js-tweet-text-container')\n",
    "\n",
    "# go through each tweet and append it's text to a list\n",
    "tweetTexts = []\n",
    "for tweet in tweets:\n",
    "    tweetTexts.append(tweet.p.text)\n",
    "\n",
    "# check what is common to only the tweets containing weather info and create a variable containing only those tweets    \n",
    "wTweets = [s for s in tweetTexts if \"Sol \" in s]\n",
    "# get from the first element from that list to find the most recent weather tweet\n",
    "mars_weather = wTweets[0]\n",
    "mars_weather"
   ]
  },
  {
   "cell_type": "markdown",
   "metadata": {},
   "source": [
    "# Mars Facts"
   ]
  },
  {
   "cell_type": "code",
   "execution_count": 14,
   "metadata": {},
   "outputs": [],
   "source": [
    "# import pandas to read html and create a dataframe\n",
    "import pandas as pd\n",
    "# create a variable containing the link to the page that will be used to create the table\n",
    "factsUrl = 'https://space-facts.com/mars/'"
   ]
  },
  {
   "cell_type": "code",
   "execution_count": 15,
   "metadata": {},
   "outputs": [
    {
     "data": {
      "text/plain": [
       "[                      0                              1\n",
       " 0  Equatorial Diameter:                       6,792 km\n",
       " 1       Polar Diameter:                       6,752 km\n",
       " 2                 Mass:  6.42 x 10^23 kg (10.7% Earth)\n",
       " 3                Moons:            2 (Phobos & Deimos)\n",
       " 4       Orbit Distance:       227,943,824 km (1.52 AU)\n",
       " 5         Orbit Period:           687 days (1.9 years)\n",
       " 6  Surface Temperature:                  -153 to 20 °C\n",
       " 7         First Record:              2nd millennium BC\n",
       " 8          Recorded By:           Egyptian astronomers]"
      ]
     },
     "execution_count": 15,
     "metadata": {},
     "output_type": "execute_result"
    }
   ],
   "source": [
    "# read the html with pandas\n",
    "tables = pd.read_html(factsUrl)\n",
    "tables"
   ]
  },
  {
   "cell_type": "code",
   "execution_count": 16,
   "metadata": {},
   "outputs": [],
   "source": [
    "# set to a variable the element in the tables list that will be used as the dataframe\n",
    "df = tables[0]\n",
    "# rename the columns\n",
    "df = df.rename(columns={0:\"Facts\", 1:\"Data\"})\n",
    "# set Facts to the index to clean up the appearance \n",
    "df.set_index(\"Facts\")\n",
    "#convert the df to html so it can be used on a webpage\n",
    "df_H = df.to_html()"
   ]
  },
  {
   "cell_type": "markdown",
   "metadata": {},
   "source": [
    "# Mars Hemispheres"
   ]
  },
  {
   "cell_type": "code",
   "execution_count": 18,
   "metadata": {},
   "outputs": [
    {
     "data": {
      "text/plain": [
       "[{'img_url': 'https://astropedia.astrogeology.usgs.gov/download/Mars/Viking/cerberus_enhanced.tif/full.jpg',\n",
       "  'title': 'Cerberus Hemisphere'},\n",
       " {'img_url': 'https://astropedia.astrogeology.usgs.gov/download/Mars/Viking/schiaparelli_enhanced.tif/full.jpg',\n",
       "  'title': 'Schiaparelli Hemisphere'},\n",
       " {'img_url': 'https://astropedia.astrogeology.usgs.gov/download/Mars/Viking/syrtis_major_enhanced.tif/full.jpg',\n",
       "  'title': 'Syrtis Major Hemisphere'},\n",
       " {'img_url': 'https://astropedia.astrogeology.usgs.gov/download/Mars/Viking/valles_marineris_enhanced.tif/full.jpg',\n",
       "  'title': 'Valles Marineris Hemisphere'}]"
      ]
     },
     "execution_count": 18,
     "metadata": {},
     "output_type": "execute_result"
    }
   ],
   "source": [
    "Cerberus_Hemisphere = {\"title\":\"Cerberus Hemisphere\", \"img_url\":\"https://astropedia.astrogeology.usgs.gov/download/Mars/Viking/cerberus_enhanced.tif/full.jpg\"}\n",
    "Schiaparelli_Hemisphere = {\"title\":\"Schiaparelli Hemisphere\", \"img_url\":\"https://astropedia.astrogeology.usgs.gov/download/Mars/Viking/schiaparelli_enhanced.tif/full.jpg\"}\n",
    "Syrtis_Major_Hemisphere = {\"title\":\"Syrtis Major Hemisphere\", \"img_url\":\"https://astropedia.astrogeology.usgs.gov/download/Mars/Viking/syrtis_major_enhanced.tif/full.jpg\"}\n",
    "Valles_Marineris_Hemisphere = {\"title\":\"Valles Marineris Hemisphere\", \"img_url\":\"https://astropedia.astrogeology.usgs.gov/download/Mars/Viking/valles_marineris_enhanced.tif/full.jpg\"}\n",
    "\n",
    "hemisphere_image_urls = []\n",
    "hemisphere_image_urls.append(Cerberus_Hemisphere)\n",
    "hemisphere_image_urls.append(Schiaparelli_Hemisphere)\n",
    "hemisphere_image_urls.append(Syrtis_Major_Hemisphere)\n",
    "hemisphere_image_urls.append(Valles_Marineris_Hemisphere)\n",
    "hemisphere_image_urls"
   ]
  },
  {
   "cell_type": "code",
   "execution_count": 49,
   "metadata": {
    "scrolled": false
   },
   "outputs": [],
   "source": []
  },
  {
   "cell_type": "code",
   "execution_count": null,
   "metadata": {},
   "outputs": [],
   "source": []
  }
 ],
 "metadata": {
  "kernelspec": {
   "display_name": "Python 3",
   "language": "python",
   "name": "python3"
  },
  "language_info": {
   "codemirror_mode": {
    "name": "ipython",
    "version": 3
   },
   "file_extension": ".py",
   "mimetype": "text/x-python",
   "name": "python",
   "nbconvert_exporter": "python",
   "pygments_lexer": "ipython3",
   "version": "3.6.4"
  }
 },
 "nbformat": 4,
 "nbformat_minor": 2
}
